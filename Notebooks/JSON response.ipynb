{
 "cells": [
  {
   "cell_type": "code",
   "execution_count": 1,
   "id": "a51e2a99",
   "metadata": {},
   "outputs": [],
   "source": [
    "import requests"
   ]
  },
  {
   "cell_type": "code",
   "execution_count": 9,
   "id": "3df251ce",
   "metadata": {},
   "outputs": [],
   "source": [
    "url=\"https://api.coingecko.com/api/v3/search/trending\""
   ]
  },
  {
   "cell_type": "code",
   "execution_count": 12,
   "id": "066f9bec",
   "metadata": {},
   "outputs": [],
   "source": [
    "response = requests.get(url).json()"
   ]
  },
  {
   "cell_type": "code",
   "execution_count": 13,
   "id": "2215dcec",
   "metadata": {},
   "outputs": [
    {
     "name": "stdout",
     "output_type": "stream",
     "text": [
      "{'coins': [{'item': {'id': 'shopping-io', 'coin_id': 13537, 'name': 'Shopping.io', 'symbol': 'SPI', 'market_cap_rank': 648, 'thumb': 'https://assets.coingecko.com/coins/images/13537/thumb/SPI_Token.png?1623763713', 'small': 'https://assets.coingecko.com/coins/images/13537/small/SPI_Token.png?1623763713', 'large': 'https://assets.coingecko.com/coins/images/13537/large/SPI_Token.png?1623763713', 'slug': 'shopping-io', 'price_btc': 0.00082692735149676, 'score': 0}}, {'item': {'id': 'bnbpay', 'coin_id': 17519, 'name': 'BNBPay', 'symbol': 'BPAY', 'market_cap_rank': 247, 'thumb': 'https://assets.coingecko.com/coins/images/17519/thumb/logo_black_200.png?1628070010', 'small': 'https://assets.coingecko.com/coins/images/17519/small/logo_black_200.png?1628070010', 'large': 'https://assets.coingecko.com/coins/images/17519/large/logo_black_200.png?1628070010', 'slug': 'bnbpay', 'price_btc': 7.928946965489275e-07, 'score': 1}}, {'item': {'id': 'axie-infinity', 'coin_id': 13029, 'name': 'Axie Infinity', 'symbol': 'AXS', 'market_cap_rank': 27, 'thumb': 'https://assets.coingecko.com/coins/images/13029/thumb/axie_infinity_logo.png?1604471082', 'small': 'https://assets.coingecko.com/coins/images/13029/small/axie_infinity_logo.png?1604471082', 'large': 'https://assets.coingecko.com/coins/images/13029/large/axie_infinity_logo.png?1604471082', 'slug': 'axie-infinity', 'price_btc': 0.0023523265627910617, 'score': 2}}, {'item': {'id': 'oddz', 'coin_id': 14421, 'name': 'Oddz', 'symbol': 'ODDZ', 'market_cap_rank': 924, 'thumb': 'https://assets.coingecko.com/coins/images/14421/thumb/img_circle_200x200.png?1617345151', 'small': 'https://assets.coingecko.com/coins/images/14421/small/img_circle_200x200.png?1617345151', 'large': 'https://assets.coingecko.com/coins/images/14421/large/img_circle_200x200.png?1617345151', 'slug': 'oddz', 'price_btc': 8.882222333012018e-06, 'score': 3}}, {'item': {'id': 'urus-token', 'coin_id': 14122, 'name': 'Aurox Token', 'symbol': 'URUS', 'market_cap_rank': 536, 'thumb': 'https://assets.coingecko.com/coins/images/14122/thumb/urus.PNG?1614565237', 'small': 'https://assets.coingecko.com/coins/images/14122/small/urus.PNG?1614565237', 'large': 'https://assets.coingecko.com/coins/images/14122/large/urus.PNG?1614565237', 'slug': 'aurox-token', 'price_btc': 0.0022536516051020633, 'score': 4}}, {'item': {'id': 'smooth-love-potion', 'coin_id': 10366, 'name': 'Smooth Love Potion', 'symbol': 'SLP', 'market_cap_rank': 321, 'thumb': 'https://assets.coingecko.com/coins/images/10366/thumb/SLP.png?1578640057', 'small': 'https://assets.coingecko.com/coins/images/10366/small/SLP.png?1578640057', 'large': 'https://assets.coingecko.com/coins/images/10366/large/SLP.png?1578640057', 'slug': 'smooth-love-potion', 'price_btc': 1.4715085665143717e-06, 'score': 5}}, {'item': {'id': 'plant-vs-undead-token', 'coin_id': 17461, 'name': 'Plant vs Undead Token', 'symbol': 'PVU', 'market_cap_rank': 572, 'thumb': 'https://assets.coingecko.com/coins/images/17461/thumb/token-200x200.png?1627883446', 'small': 'https://assets.coingecko.com/coins/images/17461/small/token-200x200.png?1627883446', 'large': 'https://assets.coingecko.com/coins/images/17461/large/token-200x200.png?1627883446', 'slug': 'plant-vs-undead-token', 'price_btc': 7.226017626696923e-05, 'score': 6}}], 'exchanges': []}\n"
     ]
    }
   ],
   "source": [
    "print(response)"
   ]
  },
  {
   "cell_type": "code",
   "execution_count": null,
   "id": "6812916d",
   "metadata": {},
   "outputs": [],
   "source": []
  }
 ],
 "metadata": {
  "kernelspec": {
   "display_name": "Python 3 (ipykernel)",
   "language": "python",
   "name": "python3"
  },
  "language_info": {
   "codemirror_mode": {
    "name": "ipython",
    "version": 3
   },
   "file_extension": ".py",
   "mimetype": "text/x-python",
   "name": "python",
   "nbconvert_exporter": "python",
   "pygments_lexer": "ipython3",
   "version": "3.9.6"
  }
 },
 "nbformat": 4,
 "nbformat_minor": 5
}
